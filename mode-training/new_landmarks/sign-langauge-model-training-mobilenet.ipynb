{
 "cells": [
  {
   "cell_type": "code",
   "execution_count": 1,
   "metadata": {},
   "outputs": [],
   "source": [
    "import pandas as pd\n",
    "import numpy as np\n",
    "from sklearn.preprocessing import LabelEncoder\n",
    "import random\n",
    "import tensorflow as tf\n",
    "from tensorflow.keras import layers, models\n",
    "import ast\n",
    "import matplotlib.pyplot as plt\n",
    "from sklearn.model_selection import train_test_split\n",
    "from sklearn.preprocessing import StandardScaler\n",
    "import os\n",
    "from datetime import datetime\n",
    "import joblib"
   ]
  },
  {
   "cell_type": "code",
   "execution_count": 2,
   "metadata": {},
   "outputs": [
    {
     "ename": "FileNotFoundError",
     "evalue": "[Errno 2] No such file or directory: '/kaggle/input/sign-langauge-translater/combined_dataset.csv'",
     "output_type": "error",
     "traceback": [
      "\u001b[1;31m---------------------------------------------------------------------------\u001b[0m",
      "\u001b[1;31mFileNotFoundError\u001b[0m                         Traceback (most recent call last)",
      "Cell \u001b[1;32mIn[2], line 1\u001b[0m\n\u001b[1;32m----> 1\u001b[0m df \u001b[38;5;241m=\u001b[39m \u001b[43mpd\u001b[49m\u001b[38;5;241;43m.\u001b[39;49m\u001b[43mread_csv\u001b[49m\u001b[43m(\u001b[49m\u001b[38;5;124;43m'\u001b[39;49m\u001b[38;5;124;43m/kaggle/input/sign-langauge-translater/combined_dataset.csv\u001b[39;49m\u001b[38;5;124;43m'\u001b[39;49m\u001b[43m)\u001b[49m\n\u001b[0;32m      2\u001b[0m \u001b[38;5;66;03m# df2 = pd.read_csv('hand_landmarks_from_4500_to_5000.csv')\u001b[39;00m\n\u001b[0;32m      3\u001b[0m \n\u001b[0;32m      4\u001b[0m \u001b[38;5;66;03m# df = pd.concat([df1, df2], ignore_index=True)\u001b[39;00m\n\u001b[0;32m      5\u001b[0m \u001b[38;5;66;03m# df\u001b[39;00m\n",
      "File \u001b[1;32m~\\anaconda3\\envs\\python3.10\\lib\\site-packages\\pandas\\io\\parsers\\readers.py:1026\u001b[0m, in \u001b[0;36mread_csv\u001b[1;34m(filepath_or_buffer, sep, delimiter, header, names, index_col, usecols, dtype, engine, converters, true_values, false_values, skipinitialspace, skiprows, skipfooter, nrows, na_values, keep_default_na, na_filter, verbose, skip_blank_lines, parse_dates, infer_datetime_format, keep_date_col, date_parser, date_format, dayfirst, cache_dates, iterator, chunksize, compression, thousands, decimal, lineterminator, quotechar, quoting, doublequote, escapechar, comment, encoding, encoding_errors, dialect, on_bad_lines, delim_whitespace, low_memory, memory_map, float_precision, storage_options, dtype_backend)\u001b[0m\n\u001b[0;32m   1013\u001b[0m kwds_defaults \u001b[38;5;241m=\u001b[39m _refine_defaults_read(\n\u001b[0;32m   1014\u001b[0m     dialect,\n\u001b[0;32m   1015\u001b[0m     delimiter,\n\u001b[1;32m   (...)\u001b[0m\n\u001b[0;32m   1022\u001b[0m     dtype_backend\u001b[38;5;241m=\u001b[39mdtype_backend,\n\u001b[0;32m   1023\u001b[0m )\n\u001b[0;32m   1024\u001b[0m kwds\u001b[38;5;241m.\u001b[39mupdate(kwds_defaults)\n\u001b[1;32m-> 1026\u001b[0m \u001b[38;5;28;01mreturn\u001b[39;00m \u001b[43m_read\u001b[49m\u001b[43m(\u001b[49m\u001b[43mfilepath_or_buffer\u001b[49m\u001b[43m,\u001b[49m\u001b[43m \u001b[49m\u001b[43mkwds\u001b[49m\u001b[43m)\u001b[49m\n",
      "File \u001b[1;32m~\\anaconda3\\envs\\python3.10\\lib\\site-packages\\pandas\\io\\parsers\\readers.py:620\u001b[0m, in \u001b[0;36m_read\u001b[1;34m(filepath_or_buffer, kwds)\u001b[0m\n\u001b[0;32m    617\u001b[0m _validate_names(kwds\u001b[38;5;241m.\u001b[39mget(\u001b[38;5;124m\"\u001b[39m\u001b[38;5;124mnames\u001b[39m\u001b[38;5;124m\"\u001b[39m, \u001b[38;5;28;01mNone\u001b[39;00m))\n\u001b[0;32m    619\u001b[0m \u001b[38;5;66;03m# Create the parser.\u001b[39;00m\n\u001b[1;32m--> 620\u001b[0m parser \u001b[38;5;241m=\u001b[39m TextFileReader(filepath_or_buffer, \u001b[38;5;241m*\u001b[39m\u001b[38;5;241m*\u001b[39mkwds)\n\u001b[0;32m    622\u001b[0m \u001b[38;5;28;01mif\u001b[39;00m chunksize \u001b[38;5;129;01mor\u001b[39;00m iterator:\n\u001b[0;32m    623\u001b[0m     \u001b[38;5;28;01mreturn\u001b[39;00m parser\n",
      "File \u001b[1;32m~\\anaconda3\\envs\\python3.10\\lib\\site-packages\\pandas\\io\\parsers\\readers.py:1620\u001b[0m, in \u001b[0;36mTextFileReader.__init__\u001b[1;34m(self, f, engine, **kwds)\u001b[0m\n\u001b[0;32m   1617\u001b[0m     \u001b[38;5;28mself\u001b[39m\u001b[38;5;241m.\u001b[39moptions[\u001b[38;5;124m\"\u001b[39m\u001b[38;5;124mhas_index_names\u001b[39m\u001b[38;5;124m\"\u001b[39m] \u001b[38;5;241m=\u001b[39m kwds[\u001b[38;5;124m\"\u001b[39m\u001b[38;5;124mhas_index_names\u001b[39m\u001b[38;5;124m\"\u001b[39m]\n\u001b[0;32m   1619\u001b[0m \u001b[38;5;28mself\u001b[39m\u001b[38;5;241m.\u001b[39mhandles: IOHandles \u001b[38;5;241m|\u001b[39m \u001b[38;5;28;01mNone\u001b[39;00m \u001b[38;5;241m=\u001b[39m \u001b[38;5;28;01mNone\u001b[39;00m\n\u001b[1;32m-> 1620\u001b[0m \u001b[38;5;28mself\u001b[39m\u001b[38;5;241m.\u001b[39m_engine \u001b[38;5;241m=\u001b[39m \u001b[38;5;28;43mself\u001b[39;49m\u001b[38;5;241;43m.\u001b[39;49m\u001b[43m_make_engine\u001b[49m\u001b[43m(\u001b[49m\u001b[43mf\u001b[49m\u001b[43m,\u001b[49m\u001b[43m \u001b[49m\u001b[38;5;28;43mself\u001b[39;49m\u001b[38;5;241;43m.\u001b[39;49m\u001b[43mengine\u001b[49m\u001b[43m)\u001b[49m\n",
      "File \u001b[1;32m~\\anaconda3\\envs\\python3.10\\lib\\site-packages\\pandas\\io\\parsers\\readers.py:1880\u001b[0m, in \u001b[0;36mTextFileReader._make_engine\u001b[1;34m(self, f, engine)\u001b[0m\n\u001b[0;32m   1878\u001b[0m     \u001b[38;5;28;01mif\u001b[39;00m \u001b[38;5;124m\"\u001b[39m\u001b[38;5;124mb\u001b[39m\u001b[38;5;124m\"\u001b[39m \u001b[38;5;129;01mnot\u001b[39;00m \u001b[38;5;129;01min\u001b[39;00m mode:\n\u001b[0;32m   1879\u001b[0m         mode \u001b[38;5;241m+\u001b[39m\u001b[38;5;241m=\u001b[39m \u001b[38;5;124m\"\u001b[39m\u001b[38;5;124mb\u001b[39m\u001b[38;5;124m\"\u001b[39m\n\u001b[1;32m-> 1880\u001b[0m \u001b[38;5;28mself\u001b[39m\u001b[38;5;241m.\u001b[39mhandles \u001b[38;5;241m=\u001b[39m \u001b[43mget_handle\u001b[49m\u001b[43m(\u001b[49m\n\u001b[0;32m   1881\u001b[0m \u001b[43m    \u001b[49m\u001b[43mf\u001b[49m\u001b[43m,\u001b[49m\n\u001b[0;32m   1882\u001b[0m \u001b[43m    \u001b[49m\u001b[43mmode\u001b[49m\u001b[43m,\u001b[49m\n\u001b[0;32m   1883\u001b[0m \u001b[43m    \u001b[49m\u001b[43mencoding\u001b[49m\u001b[38;5;241;43m=\u001b[39;49m\u001b[38;5;28;43mself\u001b[39;49m\u001b[38;5;241;43m.\u001b[39;49m\u001b[43moptions\u001b[49m\u001b[38;5;241;43m.\u001b[39;49m\u001b[43mget\u001b[49m\u001b[43m(\u001b[49m\u001b[38;5;124;43m\"\u001b[39;49m\u001b[38;5;124;43mencoding\u001b[39;49m\u001b[38;5;124;43m\"\u001b[39;49m\u001b[43m,\u001b[49m\u001b[43m \u001b[49m\u001b[38;5;28;43;01mNone\u001b[39;49;00m\u001b[43m)\u001b[49m\u001b[43m,\u001b[49m\n\u001b[0;32m   1884\u001b[0m \u001b[43m    \u001b[49m\u001b[43mcompression\u001b[49m\u001b[38;5;241;43m=\u001b[39;49m\u001b[38;5;28;43mself\u001b[39;49m\u001b[38;5;241;43m.\u001b[39;49m\u001b[43moptions\u001b[49m\u001b[38;5;241;43m.\u001b[39;49m\u001b[43mget\u001b[49m\u001b[43m(\u001b[49m\u001b[38;5;124;43m\"\u001b[39;49m\u001b[38;5;124;43mcompression\u001b[39;49m\u001b[38;5;124;43m\"\u001b[39;49m\u001b[43m,\u001b[49m\u001b[43m \u001b[49m\u001b[38;5;28;43;01mNone\u001b[39;49;00m\u001b[43m)\u001b[49m\u001b[43m,\u001b[49m\n\u001b[0;32m   1885\u001b[0m \u001b[43m    \u001b[49m\u001b[43mmemory_map\u001b[49m\u001b[38;5;241;43m=\u001b[39;49m\u001b[38;5;28;43mself\u001b[39;49m\u001b[38;5;241;43m.\u001b[39;49m\u001b[43moptions\u001b[49m\u001b[38;5;241;43m.\u001b[39;49m\u001b[43mget\u001b[49m\u001b[43m(\u001b[49m\u001b[38;5;124;43m\"\u001b[39;49m\u001b[38;5;124;43mmemory_map\u001b[39;49m\u001b[38;5;124;43m\"\u001b[39;49m\u001b[43m,\u001b[49m\u001b[43m \u001b[49m\u001b[38;5;28;43;01mFalse\u001b[39;49;00m\u001b[43m)\u001b[49m\u001b[43m,\u001b[49m\n\u001b[0;32m   1886\u001b[0m \u001b[43m    \u001b[49m\u001b[43mis_text\u001b[49m\u001b[38;5;241;43m=\u001b[39;49m\u001b[43mis_text\u001b[49m\u001b[43m,\u001b[49m\n\u001b[0;32m   1887\u001b[0m \u001b[43m    \u001b[49m\u001b[43merrors\u001b[49m\u001b[38;5;241;43m=\u001b[39;49m\u001b[38;5;28;43mself\u001b[39;49m\u001b[38;5;241;43m.\u001b[39;49m\u001b[43moptions\u001b[49m\u001b[38;5;241;43m.\u001b[39;49m\u001b[43mget\u001b[49m\u001b[43m(\u001b[49m\u001b[38;5;124;43m\"\u001b[39;49m\u001b[38;5;124;43mencoding_errors\u001b[39;49m\u001b[38;5;124;43m\"\u001b[39;49m\u001b[43m,\u001b[49m\u001b[43m \u001b[49m\u001b[38;5;124;43m\"\u001b[39;49m\u001b[38;5;124;43mstrict\u001b[39;49m\u001b[38;5;124;43m\"\u001b[39;49m\u001b[43m)\u001b[49m\u001b[43m,\u001b[49m\n\u001b[0;32m   1888\u001b[0m \u001b[43m    \u001b[49m\u001b[43mstorage_options\u001b[49m\u001b[38;5;241;43m=\u001b[39;49m\u001b[38;5;28;43mself\u001b[39;49m\u001b[38;5;241;43m.\u001b[39;49m\u001b[43moptions\u001b[49m\u001b[38;5;241;43m.\u001b[39;49m\u001b[43mget\u001b[49m\u001b[43m(\u001b[49m\u001b[38;5;124;43m\"\u001b[39;49m\u001b[38;5;124;43mstorage_options\u001b[39;49m\u001b[38;5;124;43m\"\u001b[39;49m\u001b[43m,\u001b[49m\u001b[43m \u001b[49m\u001b[38;5;28;43;01mNone\u001b[39;49;00m\u001b[43m)\u001b[49m\u001b[43m,\u001b[49m\n\u001b[0;32m   1889\u001b[0m \u001b[43m\u001b[49m\u001b[43m)\u001b[49m\n\u001b[0;32m   1890\u001b[0m \u001b[38;5;28;01massert\u001b[39;00m \u001b[38;5;28mself\u001b[39m\u001b[38;5;241m.\u001b[39mhandles \u001b[38;5;129;01mis\u001b[39;00m \u001b[38;5;129;01mnot\u001b[39;00m \u001b[38;5;28;01mNone\u001b[39;00m\n\u001b[0;32m   1891\u001b[0m f \u001b[38;5;241m=\u001b[39m \u001b[38;5;28mself\u001b[39m\u001b[38;5;241m.\u001b[39mhandles\u001b[38;5;241m.\u001b[39mhandle\n",
      "File \u001b[1;32m~\\anaconda3\\envs\\python3.10\\lib\\site-packages\\pandas\\io\\common.py:873\u001b[0m, in \u001b[0;36mget_handle\u001b[1;34m(path_or_buf, mode, encoding, compression, memory_map, is_text, errors, storage_options)\u001b[0m\n\u001b[0;32m    868\u001b[0m \u001b[38;5;28;01melif\u001b[39;00m \u001b[38;5;28misinstance\u001b[39m(handle, \u001b[38;5;28mstr\u001b[39m):\n\u001b[0;32m    869\u001b[0m     \u001b[38;5;66;03m# Check whether the filename is to be opened in binary mode.\u001b[39;00m\n\u001b[0;32m    870\u001b[0m     \u001b[38;5;66;03m# Binary mode does not support 'encoding' and 'newline'.\u001b[39;00m\n\u001b[0;32m    871\u001b[0m     \u001b[38;5;28;01mif\u001b[39;00m ioargs\u001b[38;5;241m.\u001b[39mencoding \u001b[38;5;129;01mand\u001b[39;00m \u001b[38;5;124m\"\u001b[39m\u001b[38;5;124mb\u001b[39m\u001b[38;5;124m\"\u001b[39m \u001b[38;5;129;01mnot\u001b[39;00m \u001b[38;5;129;01min\u001b[39;00m ioargs\u001b[38;5;241m.\u001b[39mmode:\n\u001b[0;32m    872\u001b[0m         \u001b[38;5;66;03m# Encoding\u001b[39;00m\n\u001b[1;32m--> 873\u001b[0m         handle \u001b[38;5;241m=\u001b[39m \u001b[38;5;28;43mopen\u001b[39;49m\u001b[43m(\u001b[49m\n\u001b[0;32m    874\u001b[0m \u001b[43m            \u001b[49m\u001b[43mhandle\u001b[49m\u001b[43m,\u001b[49m\n\u001b[0;32m    875\u001b[0m \u001b[43m            \u001b[49m\u001b[43mioargs\u001b[49m\u001b[38;5;241;43m.\u001b[39;49m\u001b[43mmode\u001b[49m\u001b[43m,\u001b[49m\n\u001b[0;32m    876\u001b[0m \u001b[43m            \u001b[49m\u001b[43mencoding\u001b[49m\u001b[38;5;241;43m=\u001b[39;49m\u001b[43mioargs\u001b[49m\u001b[38;5;241;43m.\u001b[39;49m\u001b[43mencoding\u001b[49m\u001b[43m,\u001b[49m\n\u001b[0;32m    877\u001b[0m \u001b[43m            \u001b[49m\u001b[43merrors\u001b[49m\u001b[38;5;241;43m=\u001b[39;49m\u001b[43merrors\u001b[49m\u001b[43m,\u001b[49m\n\u001b[0;32m    878\u001b[0m \u001b[43m            \u001b[49m\u001b[43mnewline\u001b[49m\u001b[38;5;241;43m=\u001b[39;49m\u001b[38;5;124;43m\"\u001b[39;49m\u001b[38;5;124;43m\"\u001b[39;49m\u001b[43m,\u001b[49m\n\u001b[0;32m    879\u001b[0m \u001b[43m        \u001b[49m\u001b[43m)\u001b[49m\n\u001b[0;32m    880\u001b[0m     \u001b[38;5;28;01melse\u001b[39;00m:\n\u001b[0;32m    881\u001b[0m         \u001b[38;5;66;03m# Binary mode\u001b[39;00m\n\u001b[0;32m    882\u001b[0m         handle \u001b[38;5;241m=\u001b[39m \u001b[38;5;28mopen\u001b[39m(handle, ioargs\u001b[38;5;241m.\u001b[39mmode)\n",
      "\u001b[1;31mFileNotFoundError\u001b[0m: [Errno 2] No such file or directory: '/kaggle/input/sign-langauge-translater/combined_dataset.csv'"
     ]
    }
   ],
   "source": [
    "df = pd.read_csv('/combined_dataset.csv')\n",
    "# df2 = pd.read_csv('hand_landmarks_from_4500_to_5000.csv')\n",
    "\n",
    "# df = pd.concat([df1, df2], ignore_index=True)\n",
    "# df"
   ]
  },
  {
   "cell_type": "code",
   "execution_count": 4,
   "metadata": {
    "execution": {
     "iopub.execute_input": "2025-01-04T03:58:36.786907Z",
     "iopub.status.busy": "2025-01-04T03:58:36.786612Z",
     "iopub.status.idle": "2025-01-04T03:58:36.803115Z",
     "shell.execute_reply": "2025-01-04T03:58:36.802472Z",
     "shell.execute_reply.started": "2025-01-04T03:58:36.786877Z"
    }
   },
   "outputs": [
    {
     "data": {
      "text/html": [
       "<div>\n",
       "<style scoped>\n",
       "    .dataframe tbody tr th:only-of-type {\n",
       "        vertical-align: middle;\n",
       "    }\n",
       "\n",
       "    .dataframe tbody tr th {\n",
       "        vertical-align: top;\n",
       "    }\n",
       "\n",
       "    .dataframe thead th {\n",
       "        text-align: right;\n",
       "    }\n",
       "</style>\n",
       "<table border=\"1\" class=\"dataframe\">\n",
       "  <thead>\n",
       "    <tr style=\"text-align: right;\">\n",
       "      <th></th>\n",
       "      <th>class</th>\n",
       "      <th>landmarks</th>\n",
       "    </tr>\n",
       "  </thead>\n",
       "  <tbody>\n",
       "    <tr>\n",
       "      <th>0</th>\n",
       "      <td>a</td>\n",
       "      <td>[[[[0, 0, 0], [0, 0, 0], [0, 0, 0], [0, 0, 0],...</td>\n",
       "    </tr>\n",
       "    <tr>\n",
       "      <th>1</th>\n",
       "      <td>a</td>\n",
       "      <td>[[[[0, 0, 0], [0, 0, 0], [0, 0, 0], [0, 0, 0],...</td>\n",
       "    </tr>\n",
       "    <tr>\n",
       "      <th>2</th>\n",
       "      <td>a</td>\n",
       "      <td>[[[[0.5544530153274536, 0.8488561511039734, -6...</td>\n",
       "    </tr>\n",
       "    <tr>\n",
       "      <th>3</th>\n",
       "      <td>a</td>\n",
       "      <td>[[[[0.558426558971405, 0.804563581943512, -5.1...</td>\n",
       "    </tr>\n",
       "    <tr>\n",
       "      <th>4</th>\n",
       "      <td>a</td>\n",
       "      <td>[[[[0.5819562673568726, 0.8947145342826843, -6...</td>\n",
       "    </tr>\n",
       "  </tbody>\n",
       "</table>\n",
       "</div>"
      ],
      "text/plain": [
       "  class                                          landmarks\n",
       "0     a  [[[[0, 0, 0], [0, 0, 0], [0, 0, 0], [0, 0, 0],...\n",
       "1     a  [[[[0, 0, 0], [0, 0, 0], [0, 0, 0], [0, 0, 0],...\n",
       "2     a  [[[[0.5544530153274536, 0.8488561511039734, -6...\n",
       "3     a  [[[[0.558426558971405, 0.804563581943512, -5.1...\n",
       "4     a  [[[[0.5819562673568726, 0.8947145342826843, -6..."
      ]
     },
     "execution_count": 4,
     "metadata": {},
     "output_type": "execute_result"
    }
   ],
   "source": [
    "df.head()"
   ]
  },
  {
   "cell_type": "code",
   "execution_count": 5,
   "metadata": {
    "execution": {
     "iopub.execute_input": "2025-01-04T03:58:36.804296Z",
     "iopub.status.busy": "2025-01-04T03:58:36.804034Z",
     "iopub.status.idle": "2025-01-04T03:59:41.354727Z",
     "shell.execute_reply": "2025-01-04T03:59:41.353825Z",
     "shell.execute_reply.started": "2025-01-04T03:58:36.804253Z"
    }
   },
   "outputs": [],
   "source": [
    "def preprocess_data(df, landmarks_column=\"landmarks\", class_column=\"class\"):\n",
    "    \"\"\"\n",
    "    Preprocess the dataset for model training.\n",
    "\n",
    "    Args:\n",
    "        df (pd.DataFrame): DataFrame with class labels and landmarks columns.\n",
    "        landmarks_column (str): Name of the column containing landmarks.\n",
    "        class_column (str): Name of the column containing class labels.\n",
    "\n",
    "    Returns:\n",
    "        pd.DataFrame: Processed DataFrame with numeric landmarks and encoded labels.\n",
    "        LabelEncoder: Encoder for decoding class labels.\n",
    "    \"\"\"\n",
    "    # Ensure landmarks are in numeric format\n",
    "    df[landmarks_column] = df[landmarks_column].apply(\n",
    "        lambda x: np.array(ast.literal_eval(x)) if isinstance(x, str) else np.array(x)\n",
    "    )\n",
    "\n",
    "    # Encode class labels\n",
    "    le = LabelEncoder()\n",
    "    df[\"encoded_class\"] = le.fit_transform(df[class_column])\n",
    "\n",
    "    return df, le\n",
    "\n",
    "# Apply the preprocessing\n",
    "df, label_encoder = preprocess_data(df)\n"
   ]
  },
  {
   "cell_type": "code",
   "execution_count": 6,
   "metadata": {
    "execution": {
     "iopub.execute_input": "2025-01-04T03:59:41.355967Z",
     "iopub.status.busy": "2025-01-04T03:59:41.355650Z",
     "iopub.status.idle": "2025-01-04T03:59:41.361194Z",
     "shell.execute_reply": "2025-01-04T03:59:41.360467Z",
     "shell.execute_reply.started": "2025-01-04T03:59:41.355935Z"
    }
   },
   "outputs": [
    {
     "name": "stdout",
     "output_type": "stream",
     "text": [
      "['a' 'about' 'aim' 'all' 'and' 'audio' 'b' 'barrier' 'break' 'c' 'can'\n",
      " 'communication' 'creative' 'd' 'detect' 'developed' 'e' 'f' 'g' 'h'\n",
      " 'have' 'i' 'j' 'k' 'l' 'm' 'n' 'o' 'our' 'p' 'project' 'q' 'r' 's'\n",
      " 'sign language' 'solution' 't' 'team' 'text' 'that' 'to' 'translate' 'u'\n",
      " 'v' 'w' 'what' 'x' 'y' 'you' 'z'] 50\n"
     ]
    }
   ],
   "source": [
    "num_classes = len(label_encoder.classes_)\n",
    "print(label_encoder.classes_, num_classes)"
   ]
  },
  {
   "cell_type": "code",
   "execution_count": 7,
   "metadata": {
    "execution": {
     "iopub.execute_input": "2025-01-04T03:59:41.362094Z",
     "iopub.status.busy": "2025-01-04T03:59:41.361905Z",
     "iopub.status.idle": "2025-01-04T03:59:41.376099Z",
     "shell.execute_reply": "2025-01-04T03:59:41.375342Z",
     "shell.execute_reply.started": "2025-01-04T03:59:41.362077Z"
    }
   },
   "outputs": [],
   "source": [
    "def augment_landmarks(landmarks, max_noise=0.01, scale_range=(0.9, 1.1)):\n",
    "    \"\"\"\n",
    "    Apply random augmentations to landmarks.\n",
    "\n",
    "    Args:\n",
    "        landmarks (np.ndarray): Original landmarks array.\n",
    "        max_noise (float): Maximum noise to add to each coordinate.\n",
    "        scale_range (tuple): Range for random scaling factors.\n",
    "\n",
    "    Returns:\n",
    "        np.ndarray: Augmented landmarks.\n",
    "    \"\"\"\n",
    "    # Ensure landmarks are float64 for operations\n",
    "    landmarks = landmarks.astype(np.float64)\n",
    "    \n",
    "    # Add random noise\n",
    "    noise = np.random.uniform(-max_noise, max_noise, size=landmarks.shape)\n",
    "    landmarks += noise\n",
    "\n",
    "    # Apply random scaling\n",
    "    scale_factor = random.uniform(*scale_range)\n",
    "    landmarks *= scale_factor\n",
    "\n",
    "    return landmarks"
   ]
  },
  {
   "cell_type": "code",
   "execution_count": 8,
   "metadata": {
    "execution": {
     "iopub.execute_input": "2025-01-04T03:59:41.378390Z",
     "iopub.status.busy": "2025-01-04T03:59:41.378154Z",
     "iopub.status.idle": "2025-01-04T03:59:41.392520Z",
     "shell.execute_reply": "2025-01-04T03:59:41.391802Z",
     "shell.execute_reply.started": "2025-01-04T03:59:41.378370Z"
    }
   },
   "outputs": [],
   "source": [
    "def augment_dataset_in_batches(df, num_augmentations=5, batch_size=1000):\n",
    "    \"\"\"\n",
    "    Augment the dataset in batches to avoid memory overflow.\n",
    "\n",
    "    Args:\n",
    "        df (pd.DataFrame): DataFrame with 'class' and 'landmarks' columns.\n",
    "        num_augmentations (int): Number of augmented rows to create per original row.\n",
    "        batch_size (int): Number of augmented rows to process in a batch.\n",
    "\n",
    "    Yields:\n",
    "        pd.DataFrame: DataFrame containing a batch of augmented data.\n",
    "    \"\"\"\n",
    "    augmented_rows = []\n",
    "\n",
    "    for _, row in df.iterrows():\n",
    "        original_landmarks = np.array(row[\"landmarks\"])\n",
    "        \n",
    "        for _ in range(num_augmentations):\n",
    "            augmented_landmarks = augment_landmarks(original_landmarks)\n",
    "            new_row = {\n",
    "                \"class\": row[\"class\"],\n",
    "                \"landmarks\": augmented_landmarks.tolist(),\n",
    "                \"encoded_class\": row.get(\"encoded_class\", None)\n",
    "            }\n",
    "            augmented_rows.append(new_row)\n",
    "            \n",
    "            # Yield batch when it reaches the specified size\n",
    "            if len(augmented_rows) >= batch_size:\n",
    "                yield pd.DataFrame(augmented_rows)\n",
    "                augmented_rows = []\n",
    "    \n",
    "    # Yield remaining rows\n",
    "    if augmented_rows:\n",
    "        yield pd.DataFrame(augmented_rows)\n"
   ]
  },
  {
   "cell_type": "code",
   "execution_count": 9,
   "metadata": {
    "execution": {
     "iopub.execute_input": "2025-01-04T03:59:41.394091Z",
     "iopub.status.busy": "2025-01-04T03:59:41.393878Z",
     "iopub.status.idle": "2025-01-04T03:59:41.405372Z",
     "shell.execute_reply": "2025-01-04T03:59:41.404689Z",
     "shell.execute_reply.started": "2025-01-04T03:59:41.394064Z"
    }
   },
   "outputs": [],
   "source": [
    "def save_augmented_data(df, num_augmentations=5, batch_size=1000, output_file=\"augmented_data.csv\"):\n",
    "    with open(output_file, 'w', newline='') as csvfile:\n",
    "        for idx, batch in enumerate(augment_dataset_in_batches(df, num_augmentations, batch_size)):\n",
    "            # Write header only for the first batch\n",
    "            batch.to_csv(csvfile, mode='a', header=(idx == 0), index=False)"
   ]
  },
  {
   "cell_type": "code",
   "execution_count": null,
   "metadata": {
    "execution": {
     "execution_failed": "2025-01-04T04:12:23.706Z",
     "iopub.execute_input": "2025-01-04T03:59:41.406343Z",
     "iopub.status.busy": "2025-01-04T03:59:41.406116Z"
    }
   },
   "outputs": [],
   "source": [
    "save_augmented_data(df, num_augmentations=50, batch_size=1000, output_file=\"augmented_data.csv\")"
   ]
  },
  {
   "cell_type": "code",
   "execution_count": null,
   "metadata": {
    "execution": {
     "execution_failed": "2025-01-04T04:12:23.707Z"
    }
   },
   "outputs": [],
   "source": [
    "# Define timesteps, frames, and features\n",
    "timesteps = 50  # Time steps\n",
    "frames = 21  # Number of frames per time step\n",
    "features = 3  # Number of features per frame"
   ]
  },
  {
   "cell_type": "code",
   "execution_count": null,
   "metadata": {
    "execution": {
     "execution_failed": "2025-01-04T04:12:23.707Z"
    }
   },
   "outputs": [],
   "source": [
    "# Split the dataset into training and validation sets\n",
    "df_train, df_val = train_test_split(df_org_augmented, test_size=0.2, random_state=42)"
   ]
  },
  {
   "cell_type": "code",
   "execution_count": null,
   "metadata": {
    "execution": {
     "execution_failed": "2025-01-04T04:12:23.707Z"
    }
   },
   "outputs": [],
   "source": [
    "# Prepare X_train and y_train from the training set\n",
    "X_train = np.array([\n",
    "    np.array(landmark).reshape(50, 21, 6) \n",
    "    for landmark in df_train[\"landmarks\"]\n",
    "])\n",
    "y_train = df_train[\"encoded_class\"].values\n",
    "\n",
    "# Prepare X_val and y_val from the validation set\n",
    "X_val = np.array([\n",
    "    np.array(landmark).reshape(50, 21, 6) \n",
    "    for landmark in df_val[\"landmarks\"]\n",
    "])\n",
    "y_val = df_val[\"encoded_class\"].values\n",
    "\n",
    "# Verify the split and shapes\n",
    "print(f\"Training set size: {len(X_train)}\")\n",
    "print(f\"Validation set size: {len(X_val)}\")\n",
    "print(f\"X_train shape: {X_train.shape}\")\n",
    "print(f\"y_train shape: {y_train.shape}\")\n",
    "print(f\"X_val shape: {X_val.shape}\")\n",
    "print(f\"y_val shape: {y_val.shape}\")"
   ]
  },
  {
   "cell_type": "code",
   "execution_count": null,
   "metadata": {
    "execution": {
     "execution_failed": "2025-01-04T04:12:23.707Z"
    }
   },
   "outputs": [],
   "source": [
    "# Flatten the data to 2D (samples, timesteps * features)\n",
    "X_train_flattened = X_train.reshape(X_train.shape[0], -1)\n",
    "X_val_flattened = X_val.reshape(X_val.shape[0], -1)\n",
    "\n",
    "# Normalize landmarks (fit_transform on the training set, and transform on validation)\n",
    "scaler = StandardScaler()\n",
    "X_train_scaled = scaler.fit_transform(X_train_flattened)\n",
    "X_val_scaled = scaler.transform(X_val_flattened)\n",
    "\n",
    "# Reshape the scaled data back to the original 3D shape (50, 21, 6)\n",
    "X_train = X_train_scaled.reshape(X_train.shape[0], 50, 21, 6)\n",
    "X_val = X_val_scaled.reshape(X_val.shape[0], 50, 21, 6)"
   ]
  },
  {
   "cell_type": "code",
   "execution_count": null,
   "metadata": {
    "execution": {
     "execution_failed": "2025-01-04T04:12:23.707Z"
    }
   },
   "outputs": [],
   "source": [
    "# Check the shapes after reshaping\n",
    "print(f\"X_train shape after reshaping: {X_train.shape}\")\n",
    "print(f\"X_val shape after reshaping: {X_val.shape}\")"
   ]
  },
  {
   "cell_type": "code",
   "execution_count": null,
   "metadata": {
    "execution": {
     "execution_failed": "2025-01-04T04:12:23.707Z"
    }
   },
   "outputs": [],
   "source": [
    "# Convert labels to one-hot encoding\n",
    "from keras.utils import to_categorical\n",
    "y_train_one_hot = to_categorical(y_train, num_classes)\n",
    "y_val_one_hot = to_categorical(y_val, num_classes)"
   ]
  },
  {
   "cell_type": "code",
   "execution_count": null,
   "metadata": {
    "execution": {
     "execution_failed": "2025-01-04T04:12:23.708Z"
    }
   },
   "outputs": [],
   "source": [
    "# Flatten the 3D input for ViT model (timesteps, features)\n",
    "timesteps = 50  # Number of timesteps (frames)\n",
    "features = 21 * 6  # Features per frame (21 landmarks * 6 values)"
   ]
  },
  {
   "cell_type": "code",
   "execution_count": null,
   "metadata": {
    "execution": {
     "execution_failed": "2025-01-04T04:12:23.708Z"
    }
   },
   "outputs": [],
   "source": [
    "X_train_vit = X_train.reshape(-1, timesteps, features)\n",
    "X_val_vit = X_val.reshape(-1, timesteps, features)"
   ]
  },
  {
   "cell_type": "code",
   "execution_count": null,
   "metadata": {
    "execution": {
     "execution_failed": "2025-01-04T04:12:23.708Z"
    }
   },
   "outputs": [],
   "source": [
    "# Define Vision Transformer (ViT) Model\n",
    "def build_vit_model(input_shape, num_classes):\n",
    "    \"\"\"\n",
    "    Build a Vision Transformer (ViT) model for gesture classification.\n",
    "\n",
    "    Args:\n",
    "        input_shape (tuple): Shape of the input (timesteps, features).\n",
    "        num_classes (int): Number of gesture classes.\n",
    "\n",
    "    Returns:\n",
    "        keras.Model: Compiled model.\n",
    "    \"\"\"\n",
    "    input_layer = layers.Input(shape=input_shape)\n",
    "\n",
    "    # Add LayerNormalization\n",
    "    x = layers.LayerNormalization()(input_layer)\n",
    "\n",
    "    # Add Transformer block (Multi-Head Attention)\n",
    "    x = layers.MultiHeadAttention(num_heads=8, key_dim=64)(x, x)\n",
    "    x = layers.Dropout(0.1)(x)\n",
    "    x = layers.Add()([input_layer, x])  # Skip connection\n",
    "\n",
    "    # Add Feed-forward Network\n",
    "    x = layers.LayerNormalization()(x)\n",
    "    x = layers.Dense(512, activation='relu')(x)\n",
    "    x = layers.Dropout(0.1)(x)\n",
    "    x = layers.Dense(256, activation='relu')(x)\n",
    "\n",
    "    # Add Global Average Pooling and Output Layer\n",
    "    x = layers.GlobalAveragePooling1D()(x)\n",
    "    x = layers.Dense(128, activation='relu')(x)\n",
    "    output = layers.Dense(num_classes, activation='softmax')(x)\n",
    "\n",
    "    # Compile the model\n",
    "    model = models.Model(inputs=input_layer, outputs=output)\n",
    "    model.compile(optimizer='adam', loss='categorical_crossentropy', metrics=['accuracy'])\n",
    "\n",
    "    return model\n",
    "\n",
    "# Define input shape and build the ViT model\n",
    "input_shape = (timesteps, features)\n",
    "model = build_vit_model(input_shape, num_classes)\n",
    "\n",
    "# Display model summary\n",
    "model.summary()"
   ]
  },
  {
   "cell_type": "code",
   "execution_count": null,
   "metadata": {
    "execution": {
     "execution_failed": "2025-01-04T04:12:23.708Z"
    }
   },
   "outputs": [],
   "source": [
    "# Set up the log directory for TensorBoard\n",
    "log_dir = os.path.join(\"logs\", \"fit\", datetime.now().strftime(\"%Y%m%d-%H%M%S\"))\n",
    "tensorboard_callback = tf.keras.callbacks.TensorBoard(log_dir=log_dir, histogram_freq=1)"
   ]
  },
  {
   "cell_type": "code",
   "execution_count": null,
   "metadata": {
    "execution": {
     "execution_failed": "2025-01-04T04:12:23.708Z"
    }
   },
   "outputs": [],
   "source": [
    "# Train the model\n",
    "history = model.fit(\n",
    "    X_train_vit,  # Reshaped training data\n",
    "    y_train_one_hot,  # One-hot encoded labels for training\n",
    "    validation_data=(X_val_vit, y_val_one_hot),  # Reshaped validation data and labels\n",
    "    epochs=50,  # Number of epochs\n",
    "    batch_size=8,  # Mini-batch size\n",
    "    callbacks=[\n",
    "        tf.keras.callbacks.EarlyStopping(\n",
    "            monitor='val_loss',  # Monitor validation loss\n",
    "            patience=5,  # Stop training if no improvement for 5 epochs\n",
    "            restore_best_weights=True  # Restore the best model weights\n",
    "        ),\n",
    "        tensorboard_callback  # TensorBoard callback\n",
    "    ],\n",
    "    verbose=1  # Display training progress\n",
    ")"
   ]
  },
  {
   "cell_type": "code",
   "execution_count": null,
   "metadata": {
    "execution": {
     "execution_failed": "2025-01-04T04:12:23.708Z"
    }
   },
   "outputs": [],
   "source": [
    "import matplotlib.pyplot as plt\n",
    "\n",
    "# Plot training and validation loss\n",
    "plt.plot(history.history['loss'], label='Training Loss')\n",
    "plt.plot(history.history['val_loss'], label='Validation Loss')\n",
    "plt.legend()\n",
    "plt.xlabel('Epochs')\n",
    "plt.ylabel('Loss')\n",
    "plt.title('Training and Validation Loss')\n",
    "plt.show()\n",
    "\n",
    "# Plot training and validation accuracy\n",
    "plt.plot(history.history['accuracy'], label='Training Accuracy')\n",
    "plt.plot(history.history['val_accuracy'], label='Validation Accuracy')\n",
    "plt.legend()\n",
    "plt.xlabel('Epochs')\n",
    "plt.ylabel('Accuracy')\n",
    "plt.title('Training and Validation Accuracy')\n",
    "plt.show()\n"
   ]
  },
  {
   "cell_type": "code",
   "execution_count": null,
   "metadata": {
    "execution": {
     "execution_failed": "2025-01-04T04:12:23.708Z"
    }
   },
   "outputs": [],
   "source": [
    "\n",
    "# Assuming 'scaler' is your scaler object\n",
    "scaler_save_path = \"scaler.pkl\"\n",
    "joblib.dump(scaler, scaler_save_path)\n",
    "print(f\"Scaler saved to: {scaler_save_path}\")\n"
   ]
  },
  {
   "cell_type": "code",
   "execution_count": null,
   "metadata": {
    "execution": {
     "execution_failed": "2025-01-04T04:12:23.708Z"
    }
   },
   "outputs": [],
   "source": [
    "model_save_path = \"my_vit_model.h5\"\n",
    "# Save the entire model\n",
    "model.save(model_save_path)\n",
    "print(f\"Model saved to: {model_save_path}\")"
   ]
  },
  {
   "cell_type": "code",
   "execution_count": null,
   "metadata": {
    "execution": {
     "execution_failed": "2025-01-04T04:12:23.709Z"
    }
   },
   "outputs": [],
   "source": [
    "# Load the saved model\n",
    "loaded_model = tf.keras.models.load_model(model_save_path)\n",
    "\n",
    "# Verify the model structure\n",
    "loaded_model.summary()\n"
   ]
  }
 ],
 "metadata": {
  "kaggle": {
   "accelerator": "gpu",
   "dataSources": [
    {
     "datasetId": 6420653,
     "sourceId": 10366272,
     "sourceType": "datasetVersion"
    }
   ],
   "dockerImageVersionId": 30823,
   "isGpuEnabled": true,
   "isInternetEnabled": true,
   "language": "python",
   "sourceType": "notebook"
  },
  "kernelspec": {
   "display_name": "Python 3 (ipykernel)",
   "language": "python",
   "name": "python3"
  },
  "language_info": {
   "codemirror_mode": {
    "name": "ipython",
    "version": 3
   },
   "file_extension": ".py",
   "mimetype": "text/x-python",
   "name": "python",
   "nbconvert_exporter": "python",
   "pygments_lexer": "ipython3",
   "version": "3.10.16"
  }
 },
 "nbformat": 4,
 "nbformat_minor": 4
}
