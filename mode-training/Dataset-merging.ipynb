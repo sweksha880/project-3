{
 "cells": [
  {
   "cell_type": "code",
   "execution_count": 1,
   "id": "d401fc62-d18b-46a6-84f1-280282865d60",
   "metadata": {},
   "outputs": [],
   "source": [
    "import numpy as np"
   ]
  },
  {
   "cell_type": "code",
   "execution_count": 2,
   "id": "22b1fb2e-da8f-434a-9ed3-929210dabc81",
   "metadata": {},
   "outputs": [
    {
     "name": "stdout",
     "output_type": "stream",
     "text": [
      "              class                                          landmarks\n",
      "0               and  [[[[0.45911628007888794, 0.8573983907699585, 2...\n",
      "1             audio  [[[[0.0, 0.0, 0.0], [0.0, 0.0, 0.0], [0.0, 0.0...\n",
      "2           barrier  [[[[0.0, 0.0, 0.0], [0.0, 0.0, 0.0], [0.0, 0.0...\n",
      "3             break  [[[[0.6377948522567749, 0.7908705472946167, -2...\n",
      "4     communication  [[[[0.7416040897369385, 0.7967065572738647, -5...\n",
      "...             ...                                                ...\n",
      "2471              z  [[[[0, 0, 0], [0, 0, 0], [0, 0, 0], [0, 0, 0],...\n",
      "2472              z  [[[[0, 0, 0], [0, 0, 0], [0, 0, 0], [0, 0, 0],...\n",
      "2473              z  [[[[0, 0, 0], [0, 0, 0], [0, 0, 0], [0, 0, 0],...\n",
      "2474              z  [[[[0, 0, 0], [0, 0, 0], [0, 0, 0], [0, 0, 0],...\n",
      "2475              z  [[[[0, 0, 0], [0, 0, 0], [0, 0, 0], [0, 0, 0],...\n",
      "\n",
      "[2476 rows x 2 columns]\n"
     ]
    }
   ],
   "source": [
    "import os\n",
    "import pandas as pd\n",
    "\n",
    "def concatenate_csv_files(folder_path):\n",
    "    \"\"\"\n",
    "    Concatenate all CSV files in a given folder, reset the index, and return the combined DataFrame.\n",
    "\n",
    "    Parameters:\n",
    "        folder_path (str): Path to the folder containing the CSV files.\n",
    "\n",
    "    Returns:\n",
    "        pd.DataFrame: A single DataFrame with concatenated data and reset index.\n",
    "    \"\"\"\n",
    "    # List to store individual DataFrames\n",
    "    dataframes = []\n",
    "    \n",
    "    # Iterate over all files in the folder\n",
    "    for file_name in os.listdir(folder_path):\n",
    "        # Construct the full file path\n",
    "        file_path = os.path.join(folder_path, file_name)\n",
    "        \n",
    "        # Check if the file is a CSV\n",
    "        if file_name.endswith('.csv'):\n",
    "            # Read the CSV file and append it to the list\n",
    "            try:\n",
    "                df = pd.read_csv(file_path)\n",
    "                dataframes.append(df)\n",
    "            except Exception as e:\n",
    "                print(f\"Error reading {file_name}: {e}\")\n",
    "    \n",
    "    # Concatenate all DataFrames\n",
    "    combined_df = pd.concat(dataframes, ignore_index=True)\n",
    "    \n",
    "    # Reset the index\n",
    "    combined_df.reset_index(drop=True, inplace=True)\n",
    "    \n",
    "    return combined_df\n",
    "\n",
    "# Example usage\n",
    "folder_path = 'new_landmarks'\n",
    "combined_df = concatenate_csv_files(folder_path)\n",
    "print(combined_df)\n"
   ]
  },
  {
   "cell_type": "code",
   "execution_count": 3,
   "id": "86f2b6b4-ce3d-453d-a942-fde920546ce6",
   "metadata": {},
   "outputs": [],
   "source": [
    "first = np.stack(eval(combined_df['landmarks'][0]))"
   ]
  },
  {
   "cell_type": "code",
   "execution_count": 6,
   "id": "712b3d05-f33b-47cf-841e-b59236996b06",
   "metadata": {},
   "outputs": [],
   "source": [
    " combined_df.to_csv('concated_landmarks.csv')"
   ]
  }
 ],
 "metadata": {
  "kernelspec": {
   "display_name": "Python 3 (ipykernel)",
   "language": "python",
   "name": "python3"
  },
  "language_info": {
   "codemirror_mode": {
    "name": "ipython",
    "version": 3
   },
   "file_extension": ".py",
   "mimetype": "text/x-python",
   "name": "python",
   "nbconvert_exporter": "python",
   "pygments_lexer": "ipython3",
   "version": "3.10.16"
  }
 },
 "nbformat": 4,
 "nbformat_minor": 5
}
