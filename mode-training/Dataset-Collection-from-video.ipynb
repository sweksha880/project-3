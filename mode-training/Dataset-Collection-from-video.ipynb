{
 "cells": [
  {
   "cell_type": "markdown",
   "id": "85fcd119-ed66-45be-9e4c-a474c82122d1",
   "metadata": {},
   "source": [
    "# Sign Langauge Dataset Collection"
   ]
  },
  {
   "cell_type": "markdown",
   "id": "60e2a10b-6c6f-4595-9148-05dcb6a1bf83",
   "metadata": {},
   "source": [
    "## 1. Download and Import all libraries"
   ]
  },
  {
   "cell_type": "code",
   "execution_count": 1,
   "id": "de580072-5320-40b5-b2d4-ffe1d4391302",
   "metadata": {},
   "outputs": [],
   "source": [
    "import cv2\n",
    "import numpy as np\n",
    "import csv\n",
    "import os\n",
    "from matplotlib import pyplot as plt\n",
    "import time\n",
    "import mediapipe as mp\n",
    "import pandas as pd\n",
    "from random import sample\n",
    "import zipfile\n",
    "import json\n",
    "import ast"
   ]
  },
  {
   "cell_type": "code",
   "execution_count": 2,
   "id": "e72c3112-39ef-4abb-8ed7-d6250e2bdd6d",
   "metadata": {},
   "outputs": [],
   "source": [
    "# Initialize MediaPipe Hands and Pose\n",
    "mp_hands = mp.solutions.hands\n",
    "mp_drawing = mp.solutions.drawing_utils"
   ]
  },
  {
   "cell_type": "code",
   "execution_count": 3,
   "id": "60cb5499-9726-43be-84e7-3dd94f1b08b4",
   "metadata": {},
   "outputs": [],
   "source": [
    "# Initialize MediaPipe Hands and Pose\n",
    "hands = mp_hands.Hands(static_image_mode=False,\n",
    "                       max_num_hands=2,\n",
    "                       min_detection_confidence=0.5,\n",
    "                       min_tracking_confidence=0.5)"
   ]
  },
  {
   "cell_type": "code",
   "execution_count": 4,
   "id": "491ac1aa-66ac-48b1-a51b-9b430cb1120f",
   "metadata": {},
   "outputs": [],
   "source": [
    "def get_landmarks(frame_rgb):\n",
    "    \"\"\"\n",
    "    Process the frame to extract hand and pose landmarks.\n",
    "    :param frame_rgb: RGB frame from video\n",
    "    :return: Hand landmarks, Pose landmarks\n",
    "    \"\"\"\n",
    "    hand_results = hands.process(frame_rgb)\n",
    "    return hand_results"
   ]
  },
  {
   "cell_type": "code",
   "execution_count": 5,
   "id": "29b707cf-609b-45a9-85bb-3a8f6fc8be42",
   "metadata": {},
   "outputs": [],
   "source": [
    "def draw_landmarks(frame, hand_results):\n",
    "    \"\"\"\n",
    "    Draw hand and pose landmarks on the frame.\n",
    "    :param frame: Original frame from video\n",
    "    :param hand_results: Hand landmarks from MediaPipe\n",
    "    :return: Frame with drawn landmarks\n",
    "    \"\"\"\n",
    "    # Draw hand landmarks\n",
    "    if hand_results.multi_hand_landmarks:\n",
    "        for hand_landmarks in hand_results.multi_hand_landmarks:\n",
    "            mp_drawing.draw_landmarks(\n",
    "                frame, hand_landmarks, mp_hands.HAND_CONNECTIONS,\n",
    "                mp_drawing.DrawingSpec(color=(0, 0, 255), thickness=2, circle_radius=2),\n",
    "                mp_drawing.DrawingSpec(color=(0, 255, 0), thickness=2)\n",
    "            )\n",
    "\n",
    "    return frame"
   ]
  },
  {
   "cell_type": "code",
   "execution_count": 6,
   "id": "54a5835b-0792-4f81-8bd0-f8d9dcd2015e",
   "metadata": {},
   "outputs": [],
   "source": [
    "# Constants\n",
    "NUM_HANDS = 2\n",
    "NUM_LANDMARKS = 21\n",
    "NUM_COORDINATES = 3\n",
    "FRAMES_PER_SEQUENCE = 50\n",
    "CSV_FILE = \"captured_landmarks.csv\"\n",
    "\n",
    "# Zero padding template\n",
    "ZERO_LANDMARK = [[[0.0, 0.0, 0.0] for _ in range(NUM_LANDMARKS)] for _ in range(NUM_HANDS)]\n"
   ]
  },
  {
   "cell_type": "code",
   "execution_count": 7,
   "id": "20cf8d9b-f739-4ccb-81ce-dc9d9c99c6fe",
   "metadata": {},
   "outputs": [
    {
     "name": "stdout",
     "output_type": "stream",
     "text": [
      "Captured landmarks saved to captured_landmarks.csv\n"
     ]
    }
   ],
   "source": [
    "import os\n",
    "import cv2\n",
    "import csv\n",
    "import numpy as np\n",
    "import mediapipe as mp\n",
    "import time\n",
    "\n",
    "\n",
    "# Initialize CSV\n",
    "with open(CSV_FILE, mode=\"w\", newline=\"\") as csvfile:\n",
    "    writer = csv.writer(csvfile)\n",
    "    writer.writerow([\"class\", \"landmarks\"])  # Header\n",
    "\n",
    "# Iterate through video files\n",
    "video_folder = \"vibrant\"  # Folder containing the video files\n",
    "video_files = [f for f in os.listdir(video_folder) if f.endswith(\".mp4\")]\n",
    "\n",
    "for video_file in video_files:\n",
    "    file_class = os.path.splitext(video_file)[0]  # Class name (file name without .mp4)\n",
    "    video_path = os.path.join(video_folder, video_file)\n",
    "\n",
    "    # Video capture\n",
    "    cap = cv2.VideoCapture(video_path)\n",
    "    captured_landmarks = []\n",
    "    frame_counter = 0\n",
    "\n",
    "    while cap.isOpened():\n",
    "        ret, frame = cap.read()\n",
    "        if not ret:\n",
    "            break\n",
    "\n",
    "        # Convert frame to RGB\n",
    "        frame_rgb = cv2.cvtColor(frame, cv2.COLOR_BGR2RGB)\n",
    "        hand_results = get_landmarks(frame_rgb)\n",
    "\n",
    "        # Initialize frame_landmarks with zeros\n",
    "        frame_landmarks = [[[0.0, 0.0, 0.0] for _ in range(NUM_LANDMARKS)] for _ in range(NUM_HANDS)]\n",
    "\n",
    "        # Populate detected hand landmarks\n",
    "        if hand_results.multi_hand_landmarks:\n",
    "            for idx, hand_landmark in enumerate(hand_results.multi_hand_landmarks):\n",
    "                if idx < NUM_HANDS:\n",
    "                    frame_landmarks[idx] = [[lm.x, lm.y, lm.z] for lm in hand_landmark.landmark]\n",
    "\n",
    "        captured_landmarks.append(frame_landmarks)\n",
    "        frame_counter += 1\n",
    "\n",
    "        # Stop collecting after reaching 50 frames\n",
    "        if frame_counter == FRAMES_PER_SEQUENCE:\n",
    "            break\n",
    "\n",
    "    cap.release()\n",
    "\n",
    "    # Ensure captured_landmarks has exactly 50 frames\n",
    "    while len(captured_landmarks) < FRAMES_PER_SEQUENCE:\n",
    "        captured_landmarks.append(ZERO_LANDMARK)\n",
    "\n",
    "    # Convert captured_landmarks to numpy array\n",
    "    captured_landmarks_array = np.array(captured_landmarks)\n",
    "\n",
    "    # Ensure correct shape\n",
    "    if captured_landmarks_array.shape == (FRAMES_PER_SEQUENCE, NUM_HANDS, NUM_LANDMARKS, NUM_COORDINATES):\n",
    "        # Save to CSV\n",
    "        with open(CSV_FILE, mode=\"a\", newline=\"\") as csvfile:\n",
    "            writer = csv.writer(csvfile)\n",
    "            writer.writerow([file_class, captured_landmarks_array.tolist()])  # Convert array to list for CSV\n",
    "    else:\n",
    "        print(f\"Error: Incorrect shape {captured_landmarks_array.shape} for video {video_file}\")\n",
    "\n",
    "# Release MediaPipe resources\n",
    "hands.close()\n",
    "print(f\"Captured landmarks saved to {CSV_FILE}\")\n"
   ]
  },
  {
   "cell_type": "code",
   "execution_count": 8,
   "id": "47380fdf-45d8-429b-8fae-919bbac6ec80",
   "metadata": {},
   "outputs": [],
   "source": [
    "df = pd.read_csv('captured_landmarks.csv')"
   ]
  },
  {
   "cell_type": "code",
   "execution_count": 9,
   "id": "672b13e8-0747-48e4-b6ec-0adec4eaa7db",
   "metadata": {},
   "outputs": [
    {
     "name": "stdout",
     "output_type": "stream",
     "text": [
      "Landmarks Array Shape: (50, 2, 21, 3)\n",
      "Row 0 Landmark Shape: (50, 2, 21, 3)\n",
      "Landmarks Array Shape: (50, 2, 21, 3)\n",
      "Row 1 Landmark Shape: (50, 2, 21, 3)\n",
      "Landmarks Array Shape: (50, 2, 21, 3)\n",
      "Row 2 Landmark Shape: (50, 2, 21, 3)\n",
      "Landmarks Array Shape: (50, 2, 21, 3)\n",
      "Row 3 Landmark Shape: (50, 2, 21, 3)\n",
      "Landmarks Array Shape: (50, 2, 21, 3)\n",
      "Row 4 Landmark Shape: (50, 2, 21, 3)\n",
      "Landmarks Array Shape: (50, 2, 21, 3)\n",
      "Row 5 Landmark Shape: (50, 2, 21, 3)\n",
      "Landmarks Array Shape: (50, 2, 21, 3)\n",
      "Row 6 Landmark Shape: (50, 2, 21, 3)\n",
      "Landmarks Array Shape: (50, 2, 21, 3)\n",
      "Row 7 Landmark Shape: (50, 2, 21, 3)\n",
      "Landmarks Array Shape: (50, 2, 21, 3)\n",
      "Row 8 Landmark Shape: (50, 2, 21, 3)\n",
      "Landmarks Array Shape: (50, 2, 21, 3)\n",
      "Row 9 Landmark Shape: (50, 2, 21, 3)\n",
      "Landmarks Array Shape: (50, 2, 21, 3)\n",
      "Row 10 Landmark Shape: (50, 2, 21, 3)\n",
      "Landmarks Array Shape: (50, 2, 21, 3)\n",
      "Row 11 Landmark Shape: (50, 2, 21, 3)\n",
      "Landmarks Array Shape: (50, 2, 21, 3)\n",
      "Row 12 Landmark Shape: (50, 2, 21, 3)\n",
      "Landmarks Array Shape: (50, 2, 21, 3)\n",
      "Row 13 Landmark Shape: (50, 2, 21, 3)\n",
      "Landmarks Array Shape: (50, 2, 21, 3)\n",
      "Row 14 Landmark Shape: (50, 2, 21, 3)\n",
      "Landmarks Array Shape: (50, 2, 21, 3)\n",
      "Row 15 Landmark Shape: (50, 2, 21, 3)\n"
     ]
    }
   ],
   "source": [
    "# Function to check the shape of landmarks and convert to a numpy array\n",
    "def check_landmark_shapes(landmark_data):\n",
    "    # Convert the string back to a list using ast.literal_eval\n",
    "    landmarks = ast.literal_eval(landmark_data)\n",
    "    \n",
    "    # Pad the data to ensure each frame has the same number of hands and landmarks\n",
    "    max_hands = 2  # Based on the NUM_HANDS constant in your previous code\n",
    "    max_landmarks = 21  # Based on the NUM_LANDMARKS constant\n",
    "    \n",
    "    # Ensure every frame has exactly max_hands hands and each hand has max_landmarks landmarks\n",
    "    for frame in landmarks:\n",
    "        while len(frame) < max_hands:\n",
    "            frame.append([[0.0, 0.0, 0.0]] * max_landmarks)  # Padding with zeros\n",
    "        for hand in frame:\n",
    "            while len(hand) < max_landmarks:\n",
    "                hand.append([0.0, 0.0, 0.0])  # Padding with zeros\n",
    "\n",
    "    # Convert the list into a numpy array\n",
    "    landmarks_array = np.array(landmarks)\n",
    "    \n",
    "    # Output the shape of the numpy array\n",
    "    print(f\"Landmarks Array Shape: {landmarks_array.shape}\")\n",
    "    \n",
    "    return landmarks_array.shape\n",
    "\n",
    "\n",
    "# Iterate through the landmarks column to check the shapes and convert to numpy array\n",
    "for index, row in df.iterrows():\n",
    "    # Get the landmark data (assuming it is in the \"landmarks\" column)\n",
    "    landmark_data = row['landmarks']\n",
    "    \n",
    "    # Check the shape and convert the landmarks data to numpy array\n",
    "    shape = check_landmark_shapes(landmark_data)\n",
    "    print(f\"Row {index} Landmark Shape: {shape}\")"
   ]
  },
  {
   "cell_type": "code",
   "execution_count": 10,
   "id": "ee0c9661-1704-4572-81ea-90321cbf8235",
   "metadata": {},
   "outputs": [
    {
     "data": {
      "text/html": [
       "<div>\n",
       "<style scoped>\n",
       "    .dataframe tbody tr th:only-of-type {\n",
       "        vertical-align: middle;\n",
       "    }\n",
       "\n",
       "    .dataframe tbody tr th {\n",
       "        vertical-align: top;\n",
       "    }\n",
       "\n",
       "    .dataframe thead th {\n",
       "        text-align: right;\n",
       "    }\n",
       "</style>\n",
       "<table border=\"1\" class=\"dataframe\">\n",
       "  <thead>\n",
       "    <tr style=\"text-align: right;\">\n",
       "      <th></th>\n",
       "      <th>class</th>\n",
       "      <th>landmarks</th>\n",
       "    </tr>\n",
       "  </thead>\n",
       "  <tbody>\n",
       "    <tr>\n",
       "      <th>0</th>\n",
       "      <td>and</td>\n",
       "      <td>[[[[0.45911628007888794, 0.8573983907699585, 2...</td>\n",
       "    </tr>\n",
       "    <tr>\n",
       "      <th>1</th>\n",
       "      <td>audio</td>\n",
       "      <td>[[[[0.0, 0.0, 0.0], [0.0, 0.0, 0.0], [0.0, 0.0...</td>\n",
       "    </tr>\n",
       "    <tr>\n",
       "      <th>2</th>\n",
       "      <td>barrier</td>\n",
       "      <td>[[[[0.0, 0.0, 0.0], [0.0, 0.0, 0.0], [0.0, 0.0...</td>\n",
       "    </tr>\n",
       "    <tr>\n",
       "      <th>3</th>\n",
       "      <td>break</td>\n",
       "      <td>[[[[0.6377948522567749, 0.7908705472946167, -2...</td>\n",
       "    </tr>\n",
       "    <tr>\n",
       "      <th>4</th>\n",
       "      <td>communication</td>\n",
       "      <td>[[[[0.7416040897369385, 0.7967065572738647, -5...</td>\n",
       "    </tr>\n",
       "  </tbody>\n",
       "</table>\n",
       "</div>"
      ],
      "text/plain": [
       "           class                                          landmarks\n",
       "0            and  [[[[0.45911628007888794, 0.8573983907699585, 2...\n",
       "1          audio  [[[[0.0, 0.0, 0.0], [0.0, 0.0, 0.0], [0.0, 0.0...\n",
       "2        barrier  [[[[0.0, 0.0, 0.0], [0.0, 0.0, 0.0], [0.0, 0.0...\n",
       "3          break  [[[[0.6377948522567749, 0.7908705472946167, -2...\n",
       "4  communication  [[[[0.7416040897369385, 0.7967065572738647, -5..."
      ]
     },
     "execution_count": 10,
     "metadata": {},
     "output_type": "execute_result"
    }
   ],
   "source": [
    "df.head()"
   ]
  }
 ],
 "metadata": {
  "kernelspec": {
   "display_name": "Python 3 (ipykernel)",
   "language": "python",
   "name": "python3"
  },
  "language_info": {
   "codemirror_mode": {
    "name": "ipython",
    "version": 3
   },
   "file_extension": ".py",
   "mimetype": "text/x-python",
   "name": "python",
   "nbconvert_exporter": "python",
   "pygments_lexer": "ipython3",
   "version": "3.10.16"
  }
 },
 "nbformat": 4,
 "nbformat_minor": 5
}
