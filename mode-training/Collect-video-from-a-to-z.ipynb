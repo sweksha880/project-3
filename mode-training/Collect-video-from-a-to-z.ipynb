{
 "cells": [
  {
   "cell_type": "markdown",
   "id": "5e23e816-83ab-497c-8007-bff3b226662a",
   "metadata": {},
   "source": [
    "# Collect Video From A To Z"
   ]
  },
  {
   "cell_type": "markdown",
   "id": "a449130c-5aa7-47e2-8eda-806a175c1966",
   "metadata": {},
   "source": [
    "## 1. Download and Import all libraries"
   ]
  },
  {
   "cell_type": "code",
   "execution_count": 2,
   "id": "80320907-3ac5-4661-ab75-e987a817fcb9",
   "metadata": {},
   "outputs": [],
   "source": [
    "# !pip install -q mediapipe matplotlib scikit-learn numpy pandas tensorflow torch"
   ]
  },
  {
   "cell_type": "code",
   "execution_count": 3,
   "id": "60dc5fd1-9044-4fc8-bb1f-fa50e1e75935",
   "metadata": {},
   "outputs": [],
   "source": [
    "import requests\n",
    "import os"
   ]
  },
  {
   "cell_type": "code",
   "execution_count": 8,
   "id": "20f9dc5e-5419-4ec4-bc55-549dfa827656",
   "metadata": {},
   "outputs": [],
   "source": [
    "  # Define headers to avoid 403 errors\n",
    "headers = {\n",
    "      'User-Agent': 'Mozilla/5.0 (Windows NT 10.0; Win64; x64) AppleWebKit/537.36 (KHTML, like Gecko) Chrome/91.0.4472.124 Safari/537.36'\n",
    "}"
   ]
  },
  {
   "cell_type": "markdown",
   "id": "0457582d-a9a9-4fa2-a332-01a5ff694a1c",
   "metadata": {},
   "source": [
    "## 2. Define function and execute function to download video from url"
   ]
  },
  {
   "cell_type": "code",
   "execution_count": 9,
   "id": "994105d2-ffa1-461d-a655-4841118e9655",
   "metadata": {},
   "outputs": [],
   "source": [
    "def download_videos(base_url, start_letter='a', end_letter='z', output_dir='downloads'):\n",
    "    \"\"\"\n",
    "    Downloads videos from a specified URL pattern.\n",
    "\n",
    "    Parameters:\n",
    "        base_url (str): The base URL with a placeholder for the letter (e.g., 'https://handspeak.com/word/{letter}/{letter}-abc.mp4').\n",
    "        start_letter (str): The starting letter of the download range.\n",
    "        end_letter (str): The ending letter of the download range.\n",
    "        output_dir (str): The directory to save the downloaded videos.\n",
    "\n",
    "    Returns:\n",
    "        None\n",
    "    \"\"\"\n",
    "    # Ensure the output directory exists\n",
    "    os.makedirs(output_dir, exist_ok=True)\n",
    "\n",
    "    # Iterate through the alphabet range\n",
    "    for letter in range(ord(start_letter), ord(end_letter) + 1):\n",
    "        current_letter = chr(letter)\n",
    "        url = base_url.format(letter=current_letter)\n",
    "        file_path = os.path.join(output_dir, f\"{current_letter}-abc.mp4\")\n",
    "\n",
    "        try:\n",
    "            print(f\"Downloading {url}...\")\n",
    "            response = requests.get(url, stream=True, headers=headers)\n",
    "            response.raise_for_status()  # Check for HTTP errors\n",
    "\n",
    "            # Save the video file\n",
    "            with open(file_path, 'wb') as f:\n",
    "                for chunk in response.iter_content(chunk_size=8192):\n",
    "                    f.write(chunk)\n",
    "\n",
    "            print(f\"Saved {file_path}\")\n",
    "        except requests.RequestException as e:\n",
    "            print(f\"Failed to download {url}: {e}\")"
   ]
  },
  {
   "cell_type": "code",
   "execution_count": 10,
   "id": "7e723880-675b-4044-b6c5-5c33dc8e55c4",
   "metadata": {},
   "outputs": [
    {
     "name": "stdout",
     "output_type": "stream",
     "text": [
      "Downloading https://handspeak.com/word/a/a-abc.mp4...\n",
      "Saved downloads\\a-abc.mp4\n",
      "Downloading https://handspeak.com/word/b/b-abc.mp4...\n",
      "Saved downloads\\b-abc.mp4\n",
      "Downloading https://handspeak.com/word/c/c-abc.mp4...\n",
      "Saved downloads\\c-abc.mp4\n",
      "Downloading https://handspeak.com/word/d/d-abc.mp4...\n",
      "Saved downloads\\d-abc.mp4\n",
      "Downloading https://handspeak.com/word/e/e-abc.mp4...\n",
      "Saved downloads\\e-abc.mp4\n",
      "Downloading https://handspeak.com/word/f/f-abc.mp4...\n",
      "Saved downloads\\f-abc.mp4\n",
      "Downloading https://handspeak.com/word/g/g-abc.mp4...\n",
      "Saved downloads\\g-abc.mp4\n",
      "Downloading https://handspeak.com/word/h/h-abc.mp4...\n",
      "Saved downloads\\h-abc.mp4\n",
      "Downloading https://handspeak.com/word/i/i-abc.mp4...\n",
      "Saved downloads\\i-abc.mp4\n",
      "Downloading https://handspeak.com/word/j/j-abc.mp4...\n",
      "Saved downloads\\j-abc.mp4\n",
      "Downloading https://handspeak.com/word/k/k-abc.mp4...\n",
      "Saved downloads\\k-abc.mp4\n",
      "Downloading https://handspeak.com/word/l/l-abc.mp4...\n",
      "Saved downloads\\l-abc.mp4\n",
      "Downloading https://handspeak.com/word/m/m-abc.mp4...\n",
      "Saved downloads\\m-abc.mp4\n",
      "Downloading https://handspeak.com/word/n/n-abc.mp4...\n",
      "Saved downloads\\n-abc.mp4\n",
      "Downloading https://handspeak.com/word/o/o-abc.mp4...\n",
      "Saved downloads\\o-abc.mp4\n",
      "Downloading https://handspeak.com/word/p/p-abc.mp4...\n",
      "Saved downloads\\p-abc.mp4\n",
      "Downloading https://handspeak.com/word/q/q-abc.mp4...\n",
      "Saved downloads\\q-abc.mp4\n",
      "Downloading https://handspeak.com/word/r/r-abc.mp4...\n",
      "Saved downloads\\r-abc.mp4\n",
      "Downloading https://handspeak.com/word/s/s-abc.mp4...\n",
      "Saved downloads\\s-abc.mp4\n",
      "Downloading https://handspeak.com/word/t/t-abc.mp4...\n",
      "Saved downloads\\t-abc.mp4\n",
      "Downloading https://handspeak.com/word/u/u-abc.mp4...\n",
      "Saved downloads\\u-abc.mp4\n",
      "Downloading https://handspeak.com/word/v/v-abc.mp4...\n",
      "Saved downloads\\v-abc.mp4\n",
      "Downloading https://handspeak.com/word/w/w-abc.mp4...\n",
      "Saved downloads\\w-abc.mp4\n",
      "Downloading https://handspeak.com/word/x/x-abc.mp4...\n",
      "Saved downloads\\x-abc.mp4\n",
      "Downloading https://handspeak.com/word/y/y-abc.mp4...\n",
      "Saved downloads\\y-abc.mp4\n",
      "Downloading https://handspeak.com/word/z/z-abc.mp4...\n",
      "Saved downloads\\z-abc.mp4\n"
     ]
    }
   ],
   "source": [
    "download_videos(base_url='https://handspeak.com/word/{letter}/{letter}-abc.mp4')"
   ]
  }
 ],
 "metadata": {
  "kernelspec": {
   "display_name": "Python 3 (ipykernel)",
   "language": "python",
   "name": "python3"
  },
  "language_info": {
   "codemirror_mode": {
    "name": "ipython",
    "version": 3
   },
   "file_extension": ".py",
   "mimetype": "text/x-python",
   "name": "python",
   "nbconvert_exporter": "python",
   "pygments_lexer": "ipython3",
   "version": "3.10.16"
  }
 },
 "nbformat": 4,
 "nbformat_minor": 5
}
