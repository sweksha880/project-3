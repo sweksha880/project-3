{
 "cells": [
  {
   "cell_type": "markdown",
   "id": "d19c4c65-1441-49e6-8497-3e60f15b4702",
   "metadata": {},
   "source": [
    "# Sign Langauge Dataset Collection"
   ]
  },
  {
   "cell_type": "markdown",
   "id": "5afeb099-08a4-4dfe-8c4c-53a77d57e8c2",
   "metadata": {},
   "source": [
    "## 1. Download and Import all libraries"
   ]
  },
  {
   "cell_type": "code",
   "execution_count": 1,
   "id": "1c43e139-cebb-4f5b-9bfd-1c85fecd79bc",
   "metadata": {},
   "outputs": [],
   "source": [
    "# !pip install -q mediapipe matplotlib scikit-learn numpy pandas tensorflow torch"
   ]
  },
  {
   "cell_type": "code",
   "execution_count": 2,
   "id": "201afa45-5419-45d3-b93b-ef4caad0f9f4",
   "metadata": {},
   "outputs": [],
   "source": [
    "import cv2\n",
    "import numpy as np\n",
    "import csv\n",
    "import os\n",
    "from matplotlib import pyplot as plt\n",
    "import time\n",
    "import mediapipe as mp\n",
    "import pandas as pd\n",
    "from random import sample\n",
    "import zipfile\n",
    "import json"
   ]
  },
  {
   "cell_type": "code",
   "execution_count": 3,
   "id": "d8af8089-fb09-462f-9cc6-2cd521cc5c5f",
   "metadata": {},
   "outputs": [],
   "source": [
    "# Initialize MediaPipe Hands and Pose\n",
    "mp_hands = mp.solutions.hands\n",
    "mp_drawing = mp.solutions.drawing_utils"
   ]
  },
  {
   "cell_type": "code",
   "execution_count": 4,
   "id": "4e4f8170-2c06-4ac7-af48-864eb61229af",
   "metadata": {},
   "outputs": [],
   "source": [
    "# Initialize MediaPipe Hands and Pose\n",
    "hands = mp_hands.Hands(static_image_mode=False,\n",
    "                       max_num_hands=2,\n",
    "                       min_detection_confidence=0.5,\n",
    "                       min_tracking_confidence=0.5)"
   ]
  },
  {
   "cell_type": "code",
   "execution_count": 5,
   "id": "7c196e0d-6851-419e-a2f4-2d975e2db8dc",
   "metadata": {},
   "outputs": [],
   "source": [
    "def get_landmarks(frame_rgb):\n",
    "    \"\"\"\n",
    "    Process the frame to extract hand and pose landmarks.\n",
    "    :param frame_rgb: RGB frame from video\n",
    "    :return: Hand landmarks, Pose landmarks\n",
    "    \"\"\"\n",
    "    hand_results = hands.process(frame_rgb)\n",
    "    return hand_results"
   ]
  },
  {
   "cell_type": "code",
   "execution_count": 6,
   "id": "f8e69245-bbfb-4da3-8c97-262378972fee",
   "metadata": {},
   "outputs": [],
   "source": [
    "def draw_landmarks(frame, hand_results):\n",
    "    \"\"\"\n",
    "    Draw hand and pose landmarks on the frame.\n",
    "    :param frame: Original frame from video\n",
    "    :param hand_results: Hand landmarks from MediaPipe\n",
    "    :return: Frame with drawn landmarks\n",
    "    \"\"\"\n",
    "    # Draw hand landmarks\n",
    "    if hand_results.multi_hand_landmarks:\n",
    "        for hand_landmarks in hand_results.multi_hand_landmarks:\n",
    "            mp_drawing.draw_landmarks(\n",
    "                frame, hand_landmarks, mp_hands.HAND_CONNECTIONS,\n",
    "                mp_drawing.DrawingSpec(color=(0, 0, 255), thickness=2, circle_radius=2),\n",
    "                mp_drawing.DrawingSpec(color=(0, 255, 0), thickness=2)\n",
    "            )\n",
    "\n",
    "    return frame"
   ]
  },
  {
   "cell_type": "code",
   "execution_count": 7,
   "id": "1515766a-0b27-4a1e-93a4-f37c6263f095",
   "metadata": {},
   "outputs": [],
   "source": [
    "# Constants\n",
    "NUM_LANDMARKS = 21\n",
    "NUM_HANDS = 2\n",
    "ZERO_LANDMARK = [[0, 0, 0]] * NUM_LANDMARKS  # Initialize placeholder for no landmarks"
   ]
  },
  {
   "cell_type": "code",
   "execution_count": 8,
   "id": "1f63fa25-9f00-4cb4-89b4-f4de96126dc7",
   "metadata": {},
   "outputs": [],
   "source": [
    "captured_landmarks = []  # List to store captured landmarks\n",
    "captured_frames = []  # List for each frame's landmarks\n",
    "frame_counter = 0  # Counter for frames\n",
    "\n",
    "# Video capture\n",
    "cap = cv2.VideoCapture(0)\n",
    "\n",
    "while cap.isOpened():\n",
    "    ret, frame = cap.read()\n",
    "    if not ret:\n",
    "        break\n",
    "\n",
    "    # Flip the frame horizontally for a selfie-view display\n",
    "    frame = cv2.flip(frame, 1)\n",
    "\n",
    "    # Resize the frame for processing\n",
    "    # frame = cv2.resize(frame, (224, 224))\n",
    "\n",
    "    # Convert frame to RGB\n",
    "    frame_rgb = cv2.cvtColor(frame, cv2.COLOR_BGR2RGB)\n",
    "\n",
    "    # Get landmarks (assuming get_landmarks is defined)\n",
    "    hand_results = get_landmarks(frame_rgb)\n",
    "    cv2.putText(frame, 'Collection Number {}'.format(len(captured_landmarks)), (15,12), \n",
    "                               cv2.FONT_HERSHEY_SIMPLEX, 0.5, (0, 0, 255), 1, cv2.LINE_AA)\n",
    "\n",
    "    # Data capture logic\n",
    "    if frame_counter == 0:\n",
    "        # Reset captured_frames for this set of 50 frames\n",
    "        captured_frames = []\n",
    "\n",
    "    if hand_results and hand_results.multi_hand_landmarks:\n",
    "        # Initialize frame landmarks with placeholders\n",
    "        frame_landmarks = [ZERO_LANDMARK] * NUM_HANDS\n",
    "\n",
    "        # Process detected hands\n",
    "        for idx, hand_landmark in enumerate(hand_results.multi_hand_landmarks):\n",
    "            if idx < NUM_HANDS:  # Limit to the number of hands expected\n",
    "                # Convert each hand's landmarks to a list of [x, y, z] values (no array wrapper)\n",
    "                frame_landmarks[idx] = [[lm.x, lm.y, lm.z] for lm in hand_landmark.landmark]\n",
    "\n",
    "        # Append the processed landmarks for this frame (as lists, not arrays)\n",
    "        captured_frames.append(frame_landmarks)\n",
    "    else:\n",
    "        # No hands detected, use placeholders\n",
    "        captured_frames.append([ZERO_LANDMARK] * NUM_HANDS)\n",
    "\n",
    "    frame_counter += 1\n",
    "\n",
    "    # Save landmarks after collecting exactly 50 frames\n",
    "    if frame_counter >= 50:\n",
    "        captured_landmarks.append(captured_frames)\n",
    "        captured_frames = []  # Reset the frames after saving\n",
    "        frame_counter = 0  # Reset the counter after 30 frames are collected\n",
    "        time.sleep(1)\n",
    "    # Stop after capturing exactly 50 sets of 30 frames\n",
    "    if len(captured_landmarks) >= 50:\n",
    "        break\n",
    "\n",
    "    # Draw landmarks (optional)\n",
    "    frame = draw_landmarks(frame, hand_results)\n",
    "\n",
    "    # Display the output video\n",
    "    cv2.imshow('Hand Detection', frame)\n",
    "\n",
    "    # Break loop on 'q' key press\n",
    "    if cv2.waitKey(1) & 0xFF == ord('q'):\n",
    "        break\n",
    "\n",
    "# Release resources\n",
    "cap.release()\n",
    "cv2.destroyAllWindows()"
   ]
  },
  {
   "cell_type": "code",
   "execution_count": 9,
   "id": "a5d14645-651a-4fa9-a530-2cb773aa50a5",
   "metadata": {},
   "outputs": [
    {
     "data": {
      "text/plain": [
       "(50, 50, 2, 21, 3)"
      ]
     },
     "execution_count": 9,
     "metadata": {},
     "output_type": "execute_result"
    }
   ],
   "source": [
    "np.array(captured_landmarks).shape"
   ]
  },
  {
   "cell_type": "code",
   "execution_count": 10,
   "id": "b6b0b19a-4f95-4f35-bcc6-152a0e6e753a",
   "metadata": {},
   "outputs": [],
   "source": [
    "def save_landmarks_with_class_csv(captured_landmarks, class_name, file_path='landmarks_data.csv'):\n",
    "    \"\"\"\n",
    "    Save landmarks with the associated class name in CSV format (2 columns: class and landmarks).\n",
    "    \n",
    "    :param captured_landmarks: List of landmarks (frames with detected landmarks)\n",
    "    :param class_name: Name of the class associated with the landmarks\n",
    "    :param file_path: Path where the landmarks data will be saved\n",
    "    \"\"\"\n",
    "    # Open the CSV file in append mode\n",
    "    with open(file_path, mode='a', newline='') as file:\n",
    "        writer = csv.writer(file)\n",
    "\n",
    "        # If the file is empty, write the header row\n",
    "        if file.tell() == 0:\n",
    "            header = ['class', 'landmarks']\n",
    "            writer.writerow(header)\n",
    "\n",
    "        # Loop through the captured landmarks and write each frame's data\n",
    "        for frame_landmarks in captured_landmarks:\n",
    "            # Convert the landmarks to a list and then to a string for saving (pure array format)\n",
    "            landmarks_list = frame_landmarks  # Convert numpy array to list\n",
    "            landmarks_str = str(landmarks_list)  # Convert the list to a string\n",
    "\n",
    "            # Create a row with the class name and the string representation of the landmarks\n",
    "            row = [class_name, landmarks_str]\n",
    "            writer.writerow(row)\n",
    "\n",
    "    print(f\"Landmarks for class '{class_name}' have been saved to CSV.\")"
   ]
  },
  {
   "cell_type": "code",
   "execution_count": 11,
   "id": "44e410df-0b87-4f90-a05a-81cdf470861a",
   "metadata": {},
   "outputs": [
    {
     "name": "stdout",
     "output_type": "stream",
     "text": [
      "Landmarks for class 'z' have been saved to CSV.\n"
     ]
    }
   ],
   "source": [
    "class_name = 'z'\n",
    "\n",
    "# Call the function to save landmarks with class name in CSV\n",
    "save_landmarks_with_class_csv(captured_landmarks, class_name)"
   ]
  },
  {
   "cell_type": "code",
   "execution_count": 2,
   "id": "c6692bb7-7937-470a-9303-09240b6e9f97",
   "metadata": {},
   "outputs": [
    {
     "ename": "NameError",
     "evalue": "name 'pd' is not defined",
     "output_type": "error",
     "traceback": [
      "\u001b[1;31m---------------------------------------------------------------------------\u001b[0m",
      "\u001b[1;31mNameError\u001b[0m                                 Traceback (most recent call last)",
      "Cell \u001b[1;32mIn[2], line 1\u001b[0m\n\u001b[1;32m----> 1\u001b[0m df \u001b[38;5;241m=\u001b[39m \u001b[43mpd\u001b[49m\u001b[38;5;241m.\u001b[39mread_csv(\u001b[38;5;124m'\u001b[39m\u001b[38;5;124mlandmarks_data.csv\u001b[39m\u001b[38;5;124m'\u001b[39m)\n",
      "\u001b[1;31mNameError\u001b[0m: name 'pd' is not defined"
     ]
    }
   ],
   "source": [
    "df = pd.read_csv('landmarks_data.csv')"
   ]
  },
  {
   "cell_type": "code",
   "execution_count": 13,
   "id": "48bd64b0-37c6-40ad-8958-76f215e3fd05",
   "metadata": {},
   "outputs": [],
   "source": [
    "landmark = eval(df['landmarks'][0])"
   ]
  },
  {
   "cell_type": "code",
   "execution_count": 1,
   "id": "1cd75be3-4929-4abb-afe3-1ae1644bb0d7",
   "metadata": {},
   "outputs": [
    {
     "ename": "NameError",
     "evalue": "name 'df' is not defined",
     "output_type": "error",
     "traceback": [
      "\u001b[1;31m---------------------------------------------------------------------------\u001b[0m",
      "\u001b[1;31mNameError\u001b[0m                                 Traceback (most recent call last)",
      "Cell \u001b[1;32mIn[1], line 10\u001b[0m\n\u001b[0;32m      7\u001b[0m     \u001b[38;5;28;01mreturn\u001b[39;00m \u001b[38;5;28mlen\u001b[39m(landmarks), \u001b[38;5;28mlen\u001b[39m(landmarks[\u001b[38;5;241m0\u001b[39m]) \u001b[38;5;28;01mif\u001b[39;00m landmarks \u001b[38;5;28;01melse\u001b[39;00m (\u001b[38;5;241m0\u001b[39m, \u001b[38;5;241m0\u001b[39m)\n\u001b[0;32m      9\u001b[0m \u001b[38;5;66;03m# Iterate through the landmarks column to check the shapes\u001b[39;00m\n\u001b[1;32m---> 10\u001b[0m \u001b[38;5;28;01mfor\u001b[39;00m index, row \u001b[38;5;129;01min\u001b[39;00m \u001b[43mdf\u001b[49m\u001b[38;5;241m.\u001b[39miterrows():\n\u001b[0;32m     11\u001b[0m     \u001b[38;5;66;03m# Get the landmark data (assuming it is in the \"landmarks\" column)\u001b[39;00m\n\u001b[0;32m     12\u001b[0m     landmark_data \u001b[38;5;241m=\u001b[39m row[\u001b[38;5;124m'\u001b[39m\u001b[38;5;124mlandmarks\u001b[39m\u001b[38;5;124m'\u001b[39m]\n\u001b[0;32m     14\u001b[0m     \u001b[38;5;66;03m# Check the shape of the current landmark data\u001b[39;00m\n",
      "\u001b[1;31mNameError\u001b[0m: name 'df' is not defined"
     ]
    }
   ],
   "source": [
    "# Function to check the shape of landmarks\n",
    "def check_landmark_shapes(landmark_data):\n",
    "    # Convert the string back to a list using ast.literal_eval\n",
    "    landmarks = ast.literal_eval(landmark_data)\n",
    "    \n",
    "    # Return the shape of the landmarks (a 2D list of landmarks for each hand in each frame)\n",
    "    return len(landmarks), len(landmarks[0]) if landmarks else (0, 0)\n",
    "\n",
    "# Iterate through the landmarks column to check the shapes\n",
    "for index, row in df.iterrows():\n",
    "    # Get the landmark data (assuming it is in the \"landmarks\" column)\n",
    "    landmark_data = row['landmarks']\n",
    "    \n",
    "    # Check the shape of the current landmark data\n",
    "    shape = check_landmark_shapes(landmark_data)\n",
    "    print(f\"Row {index} Landmark Shape: {shape}\")"
   ]
  }
 ],
 "metadata": {
  "kernelspec": {
   "display_name": "Python 3 (ipykernel)",
   "language": "python",
   "name": "python3"
  },
  "language_info": {
   "codemirror_mode": {
    "name": "ipython",
    "version": 3
   },
   "file_extension": ".py",
   "mimetype": "text/x-python",
   "name": "python",
   "nbconvert_exporter": "python",
   "pygments_lexer": "ipython3",
   "version": "3.10.16"
  }
 },
 "nbformat": 4,
 "nbformat_minor": 5
}
